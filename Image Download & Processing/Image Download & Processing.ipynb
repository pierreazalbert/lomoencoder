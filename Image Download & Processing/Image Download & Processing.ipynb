{
 "cells": [
  {
   "cell_type": "code",
   "execution_count": 14,
   "metadata": {},
   "outputs": [],
   "source": [
    "import requests\n",
    "from bs4 import BeautifulSoup\n",
    "import os\n",
    "from IPython.display import clear_output\n",
    "import pandas as pd"
   ]
  },
  {
   "cell_type": "code",
   "execution_count": null,
   "metadata": {
    "scrolled": true
   },
   "outputs": [],
   "source": [
    "def getimgcount(path):\n",
    "    path, dirs, files = next(os.walk(path))\n",
    "    file_count = len(files)\n",
    "    return file_count\n",
    "\n",
    "def getallimg(webpage, savepath):\n",
    "\n",
    "    r = requests.get(webpage)\n",
    "    data = r.text\n",
    "    soup = BeautifulSoup(data, \"lxml\")\n",
    "\n",
    "    for link in soup.find_all('img'):\n",
    "        image = link.get('data-srcset')\n",
    "        if image is not None:\n",
    "            url = str(image).split(',')[1][1:-2]\n",
    "            image_file = requests.get(url)\n",
    "            image_name = str(link.parent.parent.parent.get('data-id'))+'.jpg'\n",
    "            #print('Downloading '+image_name, end='\\r')\n",
    "            count = getimgcount(savepath)\n",
    "            print(str(count)+' images downloaded.', end='\\r')\n",
    "            with open(savepath+image_name, \"wb\") as f:\n",
    "                f.write(image_file.content)               "
   ]
  },
  {
   "cell_type": "code",
   "execution_count": null,
   "metadata": {
    "scrolled": true
   },
   "outputs": [],
   "source": [
    "webpage = \"https://www.lomography.com/films/871954447-lomography-lomochrome-purple-xr-100-400-35mm/photos?order=popular&page=\"\n",
    "savepath = \"./images2/\"\n",
    "\n",
    "index = 105\n",
    "while getimgcount(savepath) < 5000:\n",
    "    clear_output()\n",
    "    print('Downloading all images from page '+str(index)+'...', end='\\n')\n",
    "    getallimg(webpage+str(index), savepath)\n",
    "    index += 1"
   ]
  },
  {
   "cell_type": "code",
   "execution_count": null,
   "metadata": {},
   "outputs": [],
   "source": [
    "r = requests.get(webpage)\n",
    "print(webpage)\n",
    "data = r.text\n",
    "soup = BeautifulSoup(data, \"lxml\")\n",
    "\n",
    "for link in soup.find_all('img'):\n",
    "    image = link.get('data-srcset')\n",
    "    if image is not None:\n",
    "        url = str(image).split(',')[1][1:-2]\n",
    "        image_file = requests.get(url)\n",
    "        print()"
   ]
  },
  {
   "cell_type": "code",
   "execution_count": null,
   "metadata": {},
   "outputs": [],
   "source": [
    "import cv2\n",
    "import numpy as np\n",
    " \n",
    "# read image into matrix.\n",
    "m =  cv2.imread(\"./images/18695759.jpg\")\n",
    " \n",
    "# get image properties.\n",
    "h,w,bpp = np.shape(m)\n",
    " \n",
    "# print image properties.\n",
    "print(\"width: \" + str(w))\n",
    "print(\"height: \" + str(h))\n",
    "print(\"bpp: \" + str(bpp))"
   ]
  },
  {
   "cell_type": "code",
   "execution_count": null,
   "metadata": {},
   "outputs": [],
   "source": [
    "all_width = []\n",
    "all_height = []\n",
    "path = './images/'\n",
    "for filename in os.listdir(path):\n",
    "    image = cv2.imread(path+filename)\n",
    "    h,w,bpp = np.shape(image)\n",
    "    all_width.append(w)\n",
    "    all_height.append(h)"
   ]
  },
  {
   "cell_type": "code",
   "execution_count": null,
   "metadata": {
    "scrolled": true
   },
   "outputs": [],
   "source": [
    "dim = pd.DataFrame(all_width, all_height, columns=['width', 'height'])"
   ]
  },
  {
   "cell_type": "code",
   "execution_count": null,
   "metadata": {},
   "outputs": [],
   "source": [
    "import matplotlib.pyplot as plt\n",
    "%matplotlib inline\n",
    "plt.scatter(all_width, all_height)\n",
    "plt.show()"
   ]
  },
  {
   "cell_type": "code",
   "execution_count": null,
   "metadata": {},
   "outputs": [],
   "source": [
    "plt.hist2d(all_width, all_height, bins=20)\n",
    "plt.colorbar()\n",
    "plt.show()"
   ]
  },
  {
   "cell_type": "code",
   "execution_count": null,
   "metadata": {},
   "outputs": [],
   "source": [
    "np.stat(all_width)"
   ]
  },
  {
   "cell_type": "code",
   "execution_count": null,
   "metadata": {},
   "outputs": [],
   "source": [
    "import pandas as pd\n",
    "w = pd.DataFrame(all_width)\n",
    "w.hist(bins=10)\n",
    "w.describe()"
   ]
  },
  {
   "cell_type": "code",
   "execution_count": null,
   "metadata": {},
   "outputs": [],
   "source": [
    "h = pd.DataFrame(all_height)\n",
    "h.hist()\n",
    "h.describe()"
   ]
  },
  {
   "cell_type": "code",
   "execution_count": null,
   "metadata": {
    "scrolled": true
   },
   "outputs": [],
   "source": [
    "dim[]"
   ]
  },
  {
   "cell_type": "code",
   "execution_count": 12,
   "metadata": {},
   "outputs": [],
   "source": [
    "# central crop 512x768\n",
    "path = './images2/'\n",
    "newpath = './images-cropped/'\n",
    "new_width = 768\n",
    "new_height = 512\n",
    "for filename in os.listdir(path):\n",
    "    img_path = path + filename\n",
    "    modified_path = newpath + filename\n",
    "    resize_and_crop(img_path, modified_path, (new_width, new_height), crop_type='middle')"
   ]
  },
  {
   "cell_type": "code",
   "execution_count": null,
   "metadata": {
    "scrolled": true
   },
   "outputs": [
    {
     "name": "stdout",
     "output_type": "stream",
     "text": [
      "256 384\n",
      "Converted  10086  of  10199  images.\r"
     ]
    }
   ],
   "source": [
    "# resize to half size (to reduce memory usage)\n",
    "path = './images-cropped/'\n",
    "newpath = './images-small/'\n",
    "new_width = 384\n",
    "new_height = 256\n",
    "print(new_height, new_width)\n",
    "for filename in os.listdir(path):\n",
    "    img_path = path + filename\n",
    "    modified_path = newpath + filename\n",
    "    resize_and_crop(img_path, modified_path, (new_width, new_height), crop_type='middle')\n",
    "    print('Converted ', len(os.listdir(newpath)), ' of ', len(os.listdir(path)), ' images.', end='\\r') "
   ]
  },
  {
   "cell_type": "code",
   "execution_count": 15,
   "metadata": {},
   "outputs": [],
   "source": [
    "# code taken from https://gist.github.com/sigilioso/2957026\n",
    "\n",
    "from PIL import Image\n",
    "\n",
    "def resize_and_crop(img_path, modified_path, size, crop_type='top'):\n",
    "    \"\"\"\n",
    "    Resize and crop an image to fit the specified size.\n",
    "\n",
    "    args:\n",
    "        img_path: path for the image to resize.\n",
    "        modified_path: path to store the modified image.\n",
    "        size: `(width, height)` tuple.\n",
    "        crop_type: can be 'top', 'middle' or 'bottom', depending on this\n",
    "            value, the image will cropped getting the 'top/left', 'middle' or\n",
    "            'bottom/right' of the image to fit the size.\n",
    "    raises:\n",
    "        Exception: if can not open the file in img_path of there is problems\n",
    "            to save the image.\n",
    "        ValueError: if an invalid `crop_type` is provided.\n",
    "    \"\"\"\n",
    "    # If height is higher we resize vertically, if not we resize horizontally\n",
    "    img = Image.open(img_path)\n",
    "    # Get current and desired ratio for the images\n",
    "    img_ratio = img.size[0] / float(img.size[1])\n",
    "    ratio = size[0] / float(size[1])\n",
    "    #The image is scaled/cropped vertically or horizontally depending on the ratio\n",
    "    if ratio > img_ratio:\n",
    "        img = img.resize((size[0], round(size[0] * img.size[1] / img.size[0])),\n",
    "                Image.ANTIALIAS)\n",
    "        # Crop in the top, middle or bottom\n",
    "        if crop_type == 'top':\n",
    "            box = (0, 0, img.size[0], size[1])\n",
    "        elif crop_type == 'middle':\n",
    "            box = (0, round((img.size[1] - size[1]) / 2), img.size[0],\n",
    "                   round((img.size[1] + size[1]) / 2))\n",
    "        elif crop_type == 'bottom':\n",
    "            box = (0, img.size[1] - size[1], img.size[0], img.size[1])\n",
    "        else :\n",
    "            raise ValueError('ERROR: invalid value for crop_type')\n",
    "        img = img.crop(box)\n",
    "    elif ratio < img_ratio:\n",
    "        img = img.resize((round(size[1] * img.size[0] / img.size[1]), size[1]),\n",
    "                Image.ANTIALIAS)\n",
    "        # Crop in the top, middle or bottom\n",
    "        if crop_type == 'top':\n",
    "            box = (0, 0, size[0], img.size[1])\n",
    "        elif crop_type == 'middle':\n",
    "            box = (round((img.size[0] - size[0]) / 2), 0,\n",
    "                   round((img.size[0] + size[0]) / 2), img.size[1])\n",
    "        elif crop_type == 'bottom':\n",
    "            box = (img.size[0] - size[0], 0, img.size[0], img.size[1])\n",
    "        else :\n",
    "            raise ValueError('ERROR: invalid value for crop_type')\n",
    "        img = img.crop(box)\n",
    "    else :\n",
    "        img = img.resize((size[0], size[1]),\n",
    "                Image.ANTIALIAS)\n",
    "        # If the scale is the same, we do not need to crop\n",
    "    img.save(modified_path)"
   ]
  },
  {
   "cell_type": "code",
   "execution_count": null,
   "metadata": {},
   "outputs": [],
   "source": []
  }
 ],
 "metadata": {
  "kernelspec": {
   "display_name": "Python 3",
   "language": "python",
   "name": "python3"
  },
  "language_info": {
   "codemirror_mode": {
    "name": "ipython",
    "version": 3
   },
   "file_extension": ".py",
   "mimetype": "text/x-python",
   "name": "python",
   "nbconvert_exporter": "python",
   "pygments_lexer": "ipython3",
   "version": "3.6.4"
  }
 },
 "nbformat": 4,
 "nbformat_minor": 2
}
